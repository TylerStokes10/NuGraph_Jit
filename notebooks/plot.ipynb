{
 "cells": [
  {
   "cell_type": "markdown",
   "id": "ce693164-836c-47c0-a933-4986042600c0",
   "metadata": {},
   "source": [
    "### Set autoreloading\n",
    "This extension will automatically update with any changes to packages in real time"
   ]
  },
  {
   "cell_type": "code",
   "execution_count": 1,
   "id": "733e103f-ea23-4288-b69e-9e8a55f0b534",
   "metadata": {},
   "outputs": [],
   "source": [
    "%load_ext autoreload\n",
    "%autoreload 2"
   ]
  },
  {
   "cell_type": "markdown",
   "id": "84b16126-2ed2-4d51-8c66-a93acb38e97d",
   "metadata": {},
   "source": [
    "### Import packages\n",
    "We'll need the `nugraph` and `pynuml` packages imported in order to plot, and `torch` for some tensor operations later on"
   ]
  },
  {
   "cell_type": "code",
   "execution_count": 2,
   "id": "b442335d-c606-49dd-a433-e5dcdf65cd91",
   "metadata": {},
   "outputs": [],
   "source": [
    "import nugraph as ng\n",
    "import pynuml\n",
    "import torch"
   ]
  },
  {
   "cell_type": "markdown",
   "id": "dc43e3c6-f82d-46d4-9bbe-dc8ffe573d9a",
   "metadata": {},
   "source": [
    "### Configure data module\n",
    "Declare a data module. Depending on where you're working, you should edit the data path below to point to a valid data location."
   ]
  },
  {
   "cell_type": "code",
   "execution_count": 3,
   "id": "c7af2444-0908-43d7-a57d-254bca5c5e76",
   "metadata": {},
   "outputs": [
    {
     "ename": "FileNotFoundError",
     "evalue": "[Errno 2] Unable to synchronously open file (unable to open file: name = '/home/stokes/hA_LFG_Atm_h5/numl_h5_tpc/hA_LFG_40KSig_40KBkg_Out.evt.h5.0000.h5', errno = 2, error message = 'No such file or directory', flags = 0, o_flags = 0)",
     "output_type": "error",
     "traceback": [
      "\u001b[0;31m---------------------------------------------------------------------------\u001b[0m",
      "\u001b[0;31mFileNotFoundError\u001b[0m                         Traceback (most recent call last)",
      "Cell \u001b[0;32mIn[3], line 1\u001b[0m\n\u001b[0;32m----> 1\u001b[0m nudata \u001b[38;5;241m=\u001b[39m \u001b[43mng\u001b[49m\u001b[38;5;241;43m.\u001b[39;49m\u001b[43mdata\u001b[49m\u001b[38;5;241;43m.\u001b[39;49m\u001b[43mH5DataModule\u001b[49m\u001b[43m(\u001b[49m\u001b[43mdata_path\u001b[49m\u001b[38;5;241;43m=\u001b[39;49m\u001b[38;5;124;43m'\u001b[39;49m\u001b[38;5;124;43m/home/stokes/hA_LFG_Atm_h5/numl_h5_tpc/hA_LFG_40KSig_40KBkg_Out.evt.h5.0000.h5\u001b[39;49m\u001b[38;5;124;43m'\u001b[39;49m\u001b[43m,\u001b[49m\n\u001b[1;32m      2\u001b[0m \u001b[43m                              \u001b[49m\u001b[43mbatch_size\u001b[49m\u001b[38;5;241;43m=\u001b[39;49m\u001b[38;5;241;43m64\u001b[39;49m\u001b[43m)\u001b[49m\n",
      "File \u001b[0;32m~/NuGraph_v24_4/nugraph/data/H5DataModule.py:39\u001b[0m, in \u001b[0;36mH5DataModule.__init__\u001b[0;34m(self, data_path, batch_size, shuffle, balance_frac, prepare)\u001b[0m\n\u001b[1;32m     36\u001b[0m \u001b[38;5;28mself\u001b[39m\u001b[38;5;241m.\u001b[39mshuffle \u001b[38;5;241m=\u001b[39m shuffle\n\u001b[1;32m     37\u001b[0m \u001b[38;5;28mself\u001b[39m\u001b[38;5;241m.\u001b[39mbalance_frac \u001b[38;5;241m=\u001b[39m balance_frac\n\u001b[0;32m---> 39\u001b[0m \u001b[38;5;28;01mwith\u001b[39;00m \u001b[43mh5py\u001b[49m\u001b[38;5;241;43m.\u001b[39;49m\u001b[43mFile\u001b[49m\u001b[43m(\u001b[49m\u001b[38;5;28;43mself\u001b[39;49m\u001b[38;5;241;43m.\u001b[39;49m\u001b[43mfilename\u001b[49m\u001b[43m)\u001b[49m \u001b[38;5;28;01mas\u001b[39;00m f:\n\u001b[1;32m     40\u001b[0m \n\u001b[1;32m     41\u001b[0m     \u001b[38;5;66;03m# load metadata\u001b[39;00m\n\u001b[1;32m     42\u001b[0m     \u001b[38;5;28;01mtry\u001b[39;00m:\n\u001b[1;32m     43\u001b[0m         \u001b[38;5;28mself\u001b[39m\u001b[38;5;241m.\u001b[39mplanes \u001b[38;5;241m=\u001b[39m f[\u001b[38;5;124m'\u001b[39m\u001b[38;5;124mplanes\u001b[39m\u001b[38;5;124m'\u001b[39m]\u001b[38;5;241m.\u001b[39masstr()[()]\u001b[38;5;241m.\u001b[39mtolist()\n",
      "File \u001b[0;32m~/mambaforge/envs/numl/lib/python3.11/site-packages/h5py/_hl/files.py:562\u001b[0m, in \u001b[0;36mFile.__init__\u001b[0;34m(self, name, mode, driver, libver, userblock_size, swmr, rdcc_nslots, rdcc_nbytes, rdcc_w0, track_order, fs_strategy, fs_persist, fs_threshold, fs_page_size, page_buf_size, min_meta_keep, min_raw_keep, locking, alignment_threshold, alignment_interval, meta_block_size, **kwds)\u001b[0m\n\u001b[1;32m    553\u001b[0m     fapl \u001b[38;5;241m=\u001b[39m make_fapl(driver, libver, rdcc_nslots, rdcc_nbytes, rdcc_w0,\n\u001b[1;32m    554\u001b[0m                      locking, page_buf_size, min_meta_keep, min_raw_keep,\n\u001b[1;32m    555\u001b[0m                      alignment_threshold\u001b[38;5;241m=\u001b[39malignment_threshold,\n\u001b[1;32m    556\u001b[0m                      alignment_interval\u001b[38;5;241m=\u001b[39malignment_interval,\n\u001b[1;32m    557\u001b[0m                      meta_block_size\u001b[38;5;241m=\u001b[39mmeta_block_size,\n\u001b[1;32m    558\u001b[0m                      \u001b[38;5;241m*\u001b[39m\u001b[38;5;241m*\u001b[39mkwds)\n\u001b[1;32m    559\u001b[0m     fcpl \u001b[38;5;241m=\u001b[39m make_fcpl(track_order\u001b[38;5;241m=\u001b[39mtrack_order, fs_strategy\u001b[38;5;241m=\u001b[39mfs_strategy,\n\u001b[1;32m    560\u001b[0m                      fs_persist\u001b[38;5;241m=\u001b[39mfs_persist, fs_threshold\u001b[38;5;241m=\u001b[39mfs_threshold,\n\u001b[1;32m    561\u001b[0m                      fs_page_size\u001b[38;5;241m=\u001b[39mfs_page_size)\n\u001b[0;32m--> 562\u001b[0m     fid \u001b[38;5;241m=\u001b[39m \u001b[43mmake_fid\u001b[49m\u001b[43m(\u001b[49m\u001b[43mname\u001b[49m\u001b[43m,\u001b[49m\u001b[43m \u001b[49m\u001b[43mmode\u001b[49m\u001b[43m,\u001b[49m\u001b[43m \u001b[49m\u001b[43muserblock_size\u001b[49m\u001b[43m,\u001b[49m\u001b[43m \u001b[49m\u001b[43mfapl\u001b[49m\u001b[43m,\u001b[49m\u001b[43m \u001b[49m\u001b[43mfcpl\u001b[49m\u001b[43m,\u001b[49m\u001b[43m \u001b[49m\u001b[43mswmr\u001b[49m\u001b[38;5;241;43m=\u001b[39;49m\u001b[43mswmr\u001b[49m\u001b[43m)\u001b[49m\n\u001b[1;32m    564\u001b[0m \u001b[38;5;28;01mif\u001b[39;00m \u001b[38;5;28misinstance\u001b[39m(libver, \u001b[38;5;28mtuple\u001b[39m):\n\u001b[1;32m    565\u001b[0m     \u001b[38;5;28mself\u001b[39m\u001b[38;5;241m.\u001b[39m_libver \u001b[38;5;241m=\u001b[39m libver\n",
      "File \u001b[0;32m~/mambaforge/envs/numl/lib/python3.11/site-packages/h5py/_hl/files.py:235\u001b[0m, in \u001b[0;36mmake_fid\u001b[0;34m(name, mode, userblock_size, fapl, fcpl, swmr)\u001b[0m\n\u001b[1;32m    233\u001b[0m     \u001b[38;5;28;01mif\u001b[39;00m swmr \u001b[38;5;129;01mand\u001b[39;00m swmr_support:\n\u001b[1;32m    234\u001b[0m         flags \u001b[38;5;241m|\u001b[39m\u001b[38;5;241m=\u001b[39m h5f\u001b[38;5;241m.\u001b[39mACC_SWMR_READ\n\u001b[0;32m--> 235\u001b[0m     fid \u001b[38;5;241m=\u001b[39m \u001b[43mh5f\u001b[49m\u001b[38;5;241;43m.\u001b[39;49m\u001b[43mopen\u001b[49m\u001b[43m(\u001b[49m\u001b[43mname\u001b[49m\u001b[43m,\u001b[49m\u001b[43m \u001b[49m\u001b[43mflags\u001b[49m\u001b[43m,\u001b[49m\u001b[43m \u001b[49m\u001b[43mfapl\u001b[49m\u001b[38;5;241;43m=\u001b[39;49m\u001b[43mfapl\u001b[49m\u001b[43m)\u001b[49m\n\u001b[1;32m    236\u001b[0m \u001b[38;5;28;01melif\u001b[39;00m mode \u001b[38;5;241m==\u001b[39m \u001b[38;5;124m'\u001b[39m\u001b[38;5;124mr+\u001b[39m\u001b[38;5;124m'\u001b[39m:\n\u001b[1;32m    237\u001b[0m     fid \u001b[38;5;241m=\u001b[39m h5f\u001b[38;5;241m.\u001b[39mopen(name, h5f\u001b[38;5;241m.\u001b[39mACC_RDWR, fapl\u001b[38;5;241m=\u001b[39mfapl)\n",
      "File \u001b[0;32mh5py/_objects.pyx:54\u001b[0m, in \u001b[0;36mh5py._objects.with_phil.wrapper\u001b[0;34m()\u001b[0m\n",
      "File \u001b[0;32mh5py/_objects.pyx:55\u001b[0m, in \u001b[0;36mh5py._objects.with_phil.wrapper\u001b[0;34m()\u001b[0m\n",
      "File \u001b[0;32mh5py/h5f.pyx:102\u001b[0m, in \u001b[0;36mh5py.h5f.open\u001b[0;34m()\u001b[0m\n",
      "\u001b[0;31mFileNotFoundError\u001b[0m: [Errno 2] Unable to synchronously open file (unable to open file: name = '/home/stokes/hA_LFG_Atm_h5/numl_h5_tpc/hA_LFG_40KSig_40KBkg_Out.evt.h5.0000.h5', errno = 2, error message = 'No such file or directory', flags = 0, o_flags = 0)"
     ]
    }
   ],
   "source": [
    "nudata = ng.data.H5DataModule(data_path='/home/stokes/hA_LFG_Atm_h5/numl_h5_tpc/hA_LFG_40KSig_40KBkg_Out.evt.h5.0000.h5',\n",
    "                              batch_size=64)"
   ]
  },
  {
   "cell_type": "markdown",
   "id": "f81b975b-23a0-4acb-9880-3406e0c9a661",
   "metadata": {
    "jp-MarkdownHeadingCollapsed": true
   },
   "source": [
    "### Configure network\n",
    "In order to test a trained model, we instantiate it using a checkpoint file. These are produced during training, so if you've trained a model, there should be an associated checkpoint in your output directory that you can pass here."
   ]
  },
  {
   "cell_type": "markdown",
   "id": "d19eadfd-33ab-41e9-901a-296c1c0fe5c6",
   "metadata": {},
   "source": [
    "## Configure plotting utility\n",
    "Instantiate the **pynuml** utility for plotting graph objects, which will do the heavy lifting for us here!"
   ]
  },
  {
   "cell_type": "code",
   "execution_count": 4,
   "id": "ddb02cdf-df37-492f-89f2-06a5821d5f23",
   "metadata": {},
   "outputs": [
    {
     "ename": "NameError",
     "evalue": "name 'nudata' is not defined",
     "output_type": "error",
     "traceback": [
      "\u001b[0;31m---------------------------------------------------------------------------\u001b[0m",
      "\u001b[0;31mNameError\u001b[0m                                 Traceback (most recent call last)",
      "Cell \u001b[0;32mIn[4], line 1\u001b[0m\n\u001b[0;32m----> 1\u001b[0m plot \u001b[38;5;241m=\u001b[39m pynuml\u001b[38;5;241m.\u001b[39mplot\u001b[38;5;241m.\u001b[39mGraphPlot(planes\u001b[38;5;241m=\u001b[39m\u001b[43mnudata\u001b[49m\u001b[38;5;241m.\u001b[39mplanes,\n\u001b[1;32m      2\u001b[0m                              classes\u001b[38;5;241m=\u001b[39mnudata\u001b[38;5;241m.\u001b[39msemantic_classes\n\u001b[1;32m      3\u001b[0m                             )\n",
      "\u001b[0;31mNameError\u001b[0m: name 'nudata' is not defined"
     ]
    }
   ],
   "source": [
    "plot = pynuml.plot.GraphPlot(planes=nudata.planes,\n",
    "                             classes=nudata.semantic_classes\n",
    "                            )"
   ]
  },
  {
   "cell_type": "markdown",
   "id": "fc8176e1-0655-4f86-a7f7-f66fd32e81e3",
   "metadata": {},
   "source": [
    "## Plot ground truth labels\n",
    "\n",
    "### Iterable dataset\n",
    "\n",
    "First we define an iterator over the test dataset:"
   ]
  },
  {
   "cell_type": "code",
   "execution_count": null,
   "id": "9db8fd68-b043-45ae-9381-0dfb1360d108",
   "metadata": {},
   "outputs": [],
   "source": [
    "test_iter = iter(nudata.test_dataset)"
   ]
  },
  {
   "cell_type": "markdown",
   "id": "86b92215-f402-4c33-abc1-253bf7fc54d2",
   "metadata": {},
   "source": [
    "### Retrieve the next graph\n",
    "\n",
    "This block retrieves a graph from the testing dataset, and passes it through the trained model. Since we defined `test_iter` as an iterator over the dataset, the following block can be executed multiple times, and each time it's executed, it will step to the next graph in the dataset."
   ]
  },
  {
   "cell_type": "code",
   "execution_count": null,
   "id": "05bd726b-864f-406a-ad51-d8f423280033",
   "metadata": {},
   "outputs": [],
   "source": [
    "data = next(test_iter)\n",
    "md = data['metadata']\n",
    "name = f'r{md.run}_sr{md.subrun}_e{md.event}'\n",
    "model.step(data);"
   ]
  },
  {
   "cell_type": "markdown",
   "id": "253d34a6-a395-405e-8d1d-88e0ad8e9c0f",
   "metadata": {},
   "source": [
    "### Plot a single graph\n",
    "\n",
    "We can now use pynuml's plotting utilities to plot the graph as a figure. Each time you call the above block to retrieve a new graph, you can then re-execute the plotting blocks to re-plot with the new graph."
   ]
  },
  {
   "cell_type": "code",
   "execution_count": null,
   "id": "a0e567f1-01e8-4d19-97a4-00237f5abd72",
   "metadata": {},
   "outputs": [],
   "source": [
    "fig = plot.plot(data, target='semantic', how='true', filter='show')\n",
    "fig"
   ]
  },
  {
   "cell_type": "markdown",
   "id": "110b42b7-c924-414f-b274-62d43bfa1c22",
   "metadata": {},
   "source": [
    "### Save plots to disk\n",
    "\n",
    "We can also use plotly's `write_html` and `write_image` methods to print the figure as an interactive webpage, or in a raster graphics (ie. PNG, JPEG etc) or vector graphics (ie. PDF) format. By default this writes to a `plots` subdirectory – if you're seeing an error that this directory does not exist, simply create one, or change the path to a valid output location!"
   ]
  },
  {
   "cell_type": "code",
   "execution_count": null,
   "id": "2ee27979-c6c0-4ba9-b8bf-43a2ac6faaac",
   "metadata": {},
   "outputs": [],
   "source": [
    "fig.write_html(f'plots/evd/{name}_semantic_true.html')\n",
    "fig.write_image(f'plots/evd/{name}_semantic_true.png')\n",
    "fig.write_image(f'plots/evd/{name}_semantic_true.pdf')"
   ]
  },
  {
   "cell_type": "markdown",
   "id": "725c59ac-ec07-4b9d-b041-64cbe4215ba3",
   "metadata": {},
   "source": [
    "### (Optional) Select example events\n",
    "\n",
    "The following blocks will select the representative events from the NuGraph2 paper"
   ]
  },
  {
   "cell_type": "markdown",
   "id": "62fdd710-17c6-4e0f-bc9e-52e056c63faf",
   "metadata": {},
   "source": [
    "### Event 1\n",
    "\n",
    "Run 5189, subrun 225, event 11300"
   ]
  },
  {
   "cell_type": "code",
   "execution_count": null,
   "id": "9ad4f710-21fa-4f1e-8e2e-4b255b29b95f",
   "metadata": {},
   "outputs": [],
   "source": [
    "data = nudata.test_dataset[64]\n",
    "md = data['metadata']\n",
    "name = f'r{md.run}_sr{md.subrun}_e{md.event}'\n",
    "model.step(data);"
   ]
  },
  {
   "cell_type": "markdown",
   "id": "ea6e6bda-f146-4066-9099-608f50542676",
   "metadata": {},
   "source": [
    "### Event 2\n",
    "\n",
    "Run 6999, subrun 11, event 595"
   ]
  },
  {
   "cell_type": "code",
   "execution_count": null,
   "id": "66c451a3-3d8f-4c0e-ad9e-4b7f2717fd2b",
   "metadata": {},
   "outputs": [],
   "source": [
    "data = nudata.test_dataset[36]\n",
    "md = data['metadata']\n",
    "name = f'r{md.run}_sr{md.subrun}_e{md.event}'\n",
    "model.step(data);"
   ]
  },
  {
   "cell_type": "markdown",
   "id": "3f0c0949-dc00-466e-87f9-4579024f5625",
   "metadata": {},
   "source": [
    "### Event 3\n",
    "\n",
    "Run 7048, subrun 177, event 8858"
   ]
  },
  {
   "cell_type": "code",
   "execution_count": null,
   "id": "ad517800-072a-4318-8633-a9be034dc146",
   "metadata": {},
   "outputs": [],
   "source": [
    "data = nudata.test_dataset[11]\n",
    "md = data['metadata']\n",
    "name = f'r{md.run}_sr{md.subrun}_e{md.event}'\n",
    "model.step(data);"
   ]
  },
  {
   "cell_type": "markdown",
   "id": "af512177-e4ce-4d65-b4d5-9f05582b5604",
   "metadata": {},
   "source": [
    "### Event 4\n",
    "\n",
    "Run 5459, subrun 94, event 4738"
   ]
  },
  {
   "cell_type": "code",
   "execution_count": null,
   "id": "0cd11392-4ab5-460d-8dbf-c3e0a4923260",
   "metadata": {},
   "outputs": [],
   "source": [
    "data = nudata.test_dataset[91]\n",
    "md = data['metadata']\n",
    "name = f'r{md.run}_sr{md.subrun}_e{md.event}'\n",
    "model.step(data);"
   ]
  },
  {
   "cell_type": "markdown",
   "id": "d0401913-72e9-46a8-9988-c8ab78d297db",
   "metadata": {},
   "source": [
    "### Event 5\n",
    "\n",
    "Run 6780, subrun 200, event 10006"
   ]
  },
  {
   "cell_type": "code",
   "execution_count": null,
   "id": "ce8d24bb-2096-4e5c-8217-c84746f81682",
   "metadata": {},
   "outputs": [],
   "source": [
    "data = nudata.test_dataset[27]\n",
    "md = data['metadata']\n",
    "name = f'r{md.run}_sr{md.subrun}_e{md.event}'\n",
    "model.step(data);"
   ]
  },
  {
   "cell_type": "markdown",
   "id": "6050b5db-6801-46fb-8e23-73022a5b6a1f",
   "metadata": {},
   "source": [
    "### Plot event displays\n",
    "\n",
    "Write event displays to disk in PDF format for use in the NuGraph2 paper."
   ]
  },
  {
   "cell_type": "code",
   "execution_count": null,
   "id": "fe898cdd-b8cf-4589-95b4-3020d9e02ba2",
   "metadata": {},
   "outputs": [],
   "source": [
    "plot.plot(data, target='filter', how='true', filter='none').write_image(f'plots/evd/{name}_filter_true.pdf')\n",
    "plot.plot(data, target='filter', how='pred', filter='none').write_image(f'plots/evd/{name}_filter_pred.pdf')\n",
    "plot.plot(data, target='semantic', how='true', filter='true').write_image(f'plots/evd/{name}_semantic_true.pdf')\n",
    "plot.plot(data, target='semantic', how='pred', filter='pred').write_image(f'plots/evd/{name}_semantic_pred.pdf')"
   ]
  },
  {
   "cell_type": "markdown",
   "id": "155a0d32-4de1-45a4-bd0a-5eebd2b77485",
   "metadata": {},
   "source": [
    "### Print model performance\n",
    "\n",
    "Print out information on the rate at which the model makes mistakes, and some information on common failure modes."
   ]
  },
  {
   "cell_type": "code",
   "execution_count": null,
   "id": "2151065c-c425-4b08-b8b4-00b12f9f44ac",
   "metadata": {},
   "outputs": [],
   "source": [
    "tf = torch.cat([(data[p].y_semantic!=-1) for p in nudata.planes])\n",
    "pf = torch.cat([data[p].x_filter.round() for p in nudata.planes])\n",
    "ts = torch.cat([data[p].y_semantic for p in nudata.planes])[tf]\n",
    "ps = torch.cat([data[p].x_semantic.argmax(dim=1) for p in nudata.planes])[tf]\n",
    "\n",
    "print(f'there are {tf.size(0)} hits overall, of which {tf.sum()} are signal.')\n",
    "\n",
    "print('\\n### Filter\\n')\n",
    "\n",
    "mask = tf != pf\n",
    "print(f'{mask.sum()} hits were classified wrong. of those, {(tf[mask]==0).sum()} are false positives, and {(tf[mask]==1).sum()} are false negatives.')\n",
    "\n",
    "print('\\n### Semantic\\n')\n",
    "\n",
    "print(f'of the {tf.sum()} signal hits, {(ps==ts).sum()} are correctly classified.')\n",
    "\n",
    "mask = ts != ps\n",
    "print(f'of the {mask.sum()} misclassified hits:')\n",
    "\n",
    "for i, c in enumerate(nudata.semantic_classes):\n",
    "    tm = ts[mask]==i\n",
    "    if tm.sum() == 0: continue\n",
    "    print(f'- {tm.sum()} {c} hits were misclassified.')\n",
    "    for j, cj in enumerate(nudata.semantic_classes):\n",
    "        pm = ps[mask][tm]==j\n",
    "        if pm.sum() == 0: continue\n",
    "        print(f'  - {pm.sum()} as {cj}')"
   ]
  },
  {
   "cell_type": "code",
   "execution_count": null,
   "id": "7dbbcf98-49b7-4131-9474-ad107ec16cf1",
   "metadata": {},
   "outputs": [],
   "source": []
  }
 ],
 "metadata": {
  "kernelspec": {
   "display_name": "Python 3 (ipykernel)",
   "language": "python",
   "name": "python3"
  },
  "language_info": {
   "codemirror_mode": {
    "name": "ipython",
    "version": 3
   },
   "file_extension": ".py",
   "mimetype": "text/x-python",
   "name": "python",
   "nbconvert_exporter": "python",
   "pygments_lexer": "ipython3",
   "version": "3.11.8"
  }
 },
 "nbformat": 4,
 "nbformat_minor": 5
}
